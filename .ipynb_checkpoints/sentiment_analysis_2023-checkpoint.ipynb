{
 "cells": [
  {
   "cell_type": "markdown",
   "id": "9ee05cfd",
   "metadata": {},
   "source": [
    "# Imports"
   ]
  },
  {
   "cell_type": "code",
   "execution_count": 117,
   "id": "f53b03ee",
   "metadata": {
    "ExecuteTime": {
     "end_time": "2023-06-07T20:56:25.956937Z",
     "start_time": "2023-06-07T20:56:25.934267Z"
    }
   },
   "outputs": [],
   "source": [
    "import pandas as pd\n",
    "import numpy as np\n",
    "import matplotlib.pyplot as plt\n",
    "%matplotlib inline\n",
    "\n",
    "import string\n",
    "import re\n",
    "\n",
    "from nltk.stem import WordNetLemmatizer\n",
    "\n",
    "from sklearn.model_selection import train_test_split\n",
    "from sklearn.model_selection import cross_validate\n",
    "from sklearn.pipeline import make_pipeline\n",
    "from sklearn.feature_extraction.text import TfidfVectorizer\n",
    "from sklearn.naive_bayes import MultinomialNB\n",
    "from sklearn.metrics import recall_score"
   ]
  },
  {
   "cell_type": "markdown",
   "id": "0134f513",
   "metadata": {},
   "source": [
    "# Data"
   ]
  },
  {
   "cell_type": "markdown",
   "id": "54b5aedc",
   "metadata": {},
   "source": [
    "The dataset is from kaggle \n",
    "https://www.kaggle.com/datasets/lakshmi25npathi/imdb-dataset-of-50k-movie-reviews"
   ]
  },
  {
   "cell_type": "code",
   "execution_count": 9,
   "id": "8005749f",
   "metadata": {
    "ExecuteTime": {
     "end_time": "2023-06-07T19:24:12.473689Z",
     "start_time": "2023-06-07T19:24:12.018861Z"
    }
   },
   "outputs": [],
   "source": [
    "df = pd.read_csv('IMDB Dataset.csv')"
   ]
  },
  {
   "cell_type": "code",
   "execution_count": 86,
   "id": "63f4a6c5",
   "metadata": {
    "ExecuteTime": {
     "end_time": "2023-06-07T20:30:47.706093Z",
     "start_time": "2023-06-07T20:30:47.695491Z"
    }
   },
   "outputs": [
    {
     "data": {
      "text/html": [
       "<div>\n",
       "<style scoped>\n",
       "    .dataframe tbody tr th:only-of-type {\n",
       "        vertical-align: middle;\n",
       "    }\n",
       "\n",
       "    .dataframe tbody tr th {\n",
       "        vertical-align: top;\n",
       "    }\n",
       "\n",
       "    .dataframe thead th {\n",
       "        text-align: right;\n",
       "    }\n",
       "</style>\n",
       "<table border=\"1\" class=\"dataframe\">\n",
       "  <thead>\n",
       "    <tr style=\"text-align: right;\">\n",
       "      <th></th>\n",
       "      <th>review</th>\n",
       "      <th>sentiment</th>\n",
       "    </tr>\n",
       "  </thead>\n",
       "  <tbody>\n",
       "    <tr>\n",
       "      <th>0</th>\n",
       "      <td>One of the other reviewers has mentioned that ...</td>\n",
       "      <td>positive</td>\n",
       "    </tr>\n",
       "    <tr>\n",
       "      <th>1</th>\n",
       "      <td>A wonderful little production. &lt;br /&gt;&lt;br /&gt;The...</td>\n",
       "      <td>positive</td>\n",
       "    </tr>\n",
       "    <tr>\n",
       "      <th>2</th>\n",
       "      <td>I thought this was a wonderful way to spend ti...</td>\n",
       "      <td>positive</td>\n",
       "    </tr>\n",
       "    <tr>\n",
       "      <th>3</th>\n",
       "      <td>Basically there's a family where a little boy ...</td>\n",
       "      <td>negative</td>\n",
       "    </tr>\n",
       "    <tr>\n",
       "      <th>4</th>\n",
       "      <td>Petter Mattei's \"Love in the Time of Money\" is...</td>\n",
       "      <td>positive</td>\n",
       "    </tr>\n",
       "  </tbody>\n",
       "</table>\n",
       "</div>"
      ],
      "text/plain": [
       "                                              review sentiment\n",
       "0  One of the other reviewers has mentioned that ...  positive\n",
       "1  A wonderful little production. <br /><br />The...  positive\n",
       "2  I thought this was a wonderful way to spend ti...  positive\n",
       "3  Basically there's a family where a little boy ...  negative\n",
       "4  Petter Mattei's \"Love in the Time of Money\" is...  positive"
      ]
     },
     "execution_count": 86,
     "metadata": {},
     "output_type": "execute_result"
    }
   ],
   "source": [
    "df.head()"
   ]
  },
  {
   "cell_type": "markdown",
   "id": "0ace5701",
   "metadata": {},
   "source": [
    "## Clean the data"
   ]
  },
  {
   "cell_type": "code",
   "execution_count": 18,
   "id": "561c577c",
   "metadata": {
    "ExecuteTime": {
     "end_time": "2023-06-07T19:36:05.047603Z",
     "start_time": "2023-06-07T19:36:05.035304Z"
    }
   },
   "outputs": [],
   "source": [
    "X = df[['review']]\n",
    "y = df.sentiment.map({'positive': 1, 'negative': 0})"
   ]
  },
  {
   "cell_type": "code",
   "execution_count": 58,
   "id": "72e78396",
   "metadata": {
    "ExecuteTime": {
     "end_time": "2023-06-07T20:12:48.576327Z",
     "start_time": "2023-06-07T20:12:48.568163Z"
    }
   },
   "outputs": [],
   "source": [
    "def clean(text):\n",
    "    #remove html tags\n",
    "    CLEANR = re.compile('<.*?>') \n",
    "    text = re.sub(CLEANR, '', text)\n",
    "    \n",
    "    #remove punctuation and lowercase\n",
    "    for punc in string.punctuation:\n",
    "        text = text.replace(punc,'').lower()\n",
    "    \n",
    "    #remove numeric char\n",
    "    text = ''.join([i for i in text if not i.isdigit()])\n",
    "    \n",
    "    #tokenize(list of words)\n",
    "    text_token = [word for word in text.split()]\n",
    "    \n",
    "    #lemmatize verbs and nouns\n",
    "    lemmatizer = WordNetLemmatizer()\n",
    "    v_lemmatized = [WordNetLemmatizer().lemmatize(word, pos = \"v\") for word in text_token]\n",
    "    v_n_lemmatized = [WordNetLemmatizer().lemmatize(word, pos = \"n\") for word in v_lemmatized]\n",
    "\n",
    "    res = \" \".join(v_n_lemmatized)\n",
    "    \n",
    "    return res"
   ]
  },
  {
   "cell_type": "code",
   "execution_count": 60,
   "id": "4398ef9a",
   "metadata": {
    "ExecuteTime": {
     "end_time": "2023-06-07T20:15:49.079722Z",
     "start_time": "2023-06-07T20:14:16.050611Z"
    }
   },
   "outputs": [],
   "source": [
    "X['clean'] = X['review'].apply(clean)"
   ]
  },
  {
   "cell_type": "code",
   "execution_count": 61,
   "id": "1d5b7438",
   "metadata": {
    "ExecuteTime": {
     "end_time": "2023-06-07T20:16:02.468151Z",
     "start_time": "2023-06-07T20:16:02.458255Z"
    }
   },
   "outputs": [
    {
     "data": {
      "text/html": [
       "<div>\n",
       "<style scoped>\n",
       "    .dataframe tbody tr th:only-of-type {\n",
       "        vertical-align: middle;\n",
       "    }\n",
       "\n",
       "    .dataframe tbody tr th {\n",
       "        vertical-align: top;\n",
       "    }\n",
       "\n",
       "    .dataframe thead th {\n",
       "        text-align: right;\n",
       "    }\n",
       "</style>\n",
       "<table border=\"1\" class=\"dataframe\">\n",
       "  <thead>\n",
       "    <tr style=\"text-align: right;\">\n",
       "      <th></th>\n",
       "      <th>review</th>\n",
       "      <th>clean</th>\n",
       "    </tr>\n",
       "  </thead>\n",
       "  <tbody>\n",
       "    <tr>\n",
       "      <th>0</th>\n",
       "      <td>One of the other reviewers has mentioned that ...</td>\n",
       "      <td>one of the other reviewer have mention that af...</td>\n",
       "    </tr>\n",
       "    <tr>\n",
       "      <th>1</th>\n",
       "      <td>A wonderful little production. &lt;br /&gt;&lt;br /&gt;The...</td>\n",
       "      <td>a wonderful little production the film techniq...</td>\n",
       "    </tr>\n",
       "    <tr>\n",
       "      <th>2</th>\n",
       "      <td>I thought this was a wonderful way to spend ti...</td>\n",
       "      <td>i think this be a wonderful way to spend time ...</td>\n",
       "    </tr>\n",
       "    <tr>\n",
       "      <th>3</th>\n",
       "      <td>Basically there's a family where a little boy ...</td>\n",
       "      <td>basically there a family where a little boy ja...</td>\n",
       "    </tr>\n",
       "    <tr>\n",
       "      <th>4</th>\n",
       "      <td>Petter Mattei's \"Love in the Time of Money\" is...</td>\n",
       "      <td>petter matteis love in the time of money be a ...</td>\n",
       "    </tr>\n",
       "  </tbody>\n",
       "</table>\n",
       "</div>"
      ],
      "text/plain": [
       "                                              review  \\\n",
       "0  One of the other reviewers has mentioned that ...   \n",
       "1  A wonderful little production. <br /><br />The...   \n",
       "2  I thought this was a wonderful way to spend ti...   \n",
       "3  Basically there's a family where a little boy ...   \n",
       "4  Petter Mattei's \"Love in the Time of Money\" is...   \n",
       "\n",
       "                                               clean  \n",
       "0  one of the other reviewer have mention that af...  \n",
       "1  a wonderful little production the film techniq...  \n",
       "2  i think this be a wonderful way to spend time ...  \n",
       "3  basically there a family where a little boy ja...  \n",
       "4  petter matteis love in the time of money be a ...  "
      ]
     },
     "execution_count": 61,
     "metadata": {},
     "output_type": "execute_result"
    }
   ],
   "source": [
    "X.head()"
   ]
  },
  {
   "cell_type": "markdown",
   "id": "3defec3b",
   "metadata": {},
   "source": [
    "## Train-Test Split"
   ]
  },
  {
   "cell_type": "code",
   "execution_count": 106,
   "id": "cc3e27d1",
   "metadata": {
    "ExecuteTime": {
     "end_time": "2023-06-07T20:47:24.705744Z",
     "start_time": "2023-06-07T20:47:24.691970Z"
    }
   },
   "outputs": [],
   "source": [
    "X_train, X_test, y_train, y_test = train_test_split(X.clean, y, test_size=0.3)"
   ]
  },
  {
   "cell_type": "markdown",
   "id": "c585d43a",
   "metadata": {},
   "source": [
    "# Model"
   ]
  },
  {
   "cell_type": "markdown",
   "id": "5e24a0eb",
   "metadata": {},
   "source": [
    "After trying Neural Network, I realized the model was over-fitting and too complex for the dataset.<br>\n",
    "Therefore I decided to go instead with below algorithms to see which one performs the best. For each, I used Random Search to find the best parameters possible. "
   ]
  },
  {
   "cell_type": "markdown",
   "id": "da43cc3e",
   "metadata": {
    "ExecuteTime": {
     "end_time": "2023-06-07T20:57:11.005097Z",
     "start_time": "2023-06-07T20:57:11.000127Z"
    }
   },
   "source": [
    "## Model 1: Logistic Regression"
   ]
  },
  {
   "cell_type": "markdown",
   "id": "de2b163a",
   "metadata": {},
   "source": [
    "## Model 2: Naive Bayes"
   ]
  },
  {
   "cell_type": "markdown",
   "id": "6643eeda",
   "metadata": {
    "ExecuteTime": {
     "end_time": "2023-06-07T20:59:45.322788Z",
     "start_time": "2023-06-07T20:59:45.317205Z"
    }
   },
   "source": [
    "## Model 3: SVMs"
   ]
  },
  {
   "cell_type": "markdown",
   "id": "c43a1362",
   "metadata": {},
   "source": [
    "## Model 4: Random Forests"
   ]
  },
  {
   "cell_type": "code",
   "execution_count": 111,
   "id": "aa24ca24",
   "metadata": {
    "ExecuteTime": {
     "end_time": "2023-06-07T20:47:47.026429Z",
     "start_time": "2023-06-07T20:47:46.939054Z"
    }
   },
   "outputs": [],
   "source": [
    "model_cnn = models.Sequential([\n",
    "    layers.Embedding(input_dim=vocab_size+1, input_length=length, output_dim=20, mask_zero=True),\n",
    "    layers.Conv1D(20, kernel_size=10),\n",
    "    layers.Flatten(),\n",
    "    layers.Dense(10, activation='relu'),\n",
    "    layers.Dropout(0.3),\n",
    "    layers.Dense(1, activation='sigmoid')\n",
    "])\n",
    "\n",
    "model_cnn.compile(loss='binary_crossentropy', metrics=['accuracy'], optimizer='rmsprop')"
   ]
  },
  {
   "cell_type": "code",
   "execution_count": 112,
   "id": "ffb8200d",
   "metadata": {
    "ExecuteTime": {
     "end_time": "2023-06-07T20:47:48.566574Z",
     "start_time": "2023-06-07T20:47:48.531789Z"
    }
   },
   "outputs": [
    {
     "name": "stdout",
     "output_type": "stream",
     "text": [
      "Model: \"sequential_4\"\n",
      "_________________________________________________________________\n",
      " Layer (type)                Output Shape              Param #   \n",
      "=================================================================\n",
      " embedding_4 (Embedding)     (None, 150, 20)           3074820   \n",
      "                                                                 \n",
      " conv1d_4 (Conv1D)           (None, 141, 20)           4020      \n",
      "                                                                 \n",
      " flatten_4 (Flatten)         (None, 2820)              0         \n",
      "                                                                 \n",
      " dense_8 (Dense)             (None, 10)                28210     \n",
      "                                                                 \n",
      " dropout_1 (Dropout)         (None, 10)                0         \n",
      "                                                                 \n",
      " dense_9 (Dense)             (None, 1)                 11        \n",
      "                                                                 \n",
      "=================================================================\n",
      "Total params: 3,107,061\n",
      "Trainable params: 3,107,061\n",
      "Non-trainable params: 0\n",
      "_________________________________________________________________\n"
     ]
    }
   ],
   "source": [
    "model_cnn.summary()"
   ]
  },
  {
   "cell_type": "markdown",
   "id": "16f57960",
   "metadata": {},
   "source": [
    "# Train CNN model"
   ]
  },
  {
   "cell_type": "code",
   "execution_count": 114,
   "id": "1bbe9693",
   "metadata": {
    "ExecuteTime": {
     "end_time": "2023-06-07T20:49:17.567289Z",
     "start_time": "2023-06-07T20:48:18.270196Z"
    }
   },
   "outputs": [
    {
     "name": "stdout",
     "output_type": "stream",
     "text": [
      "Epoch 1/10\n",
      "766/766 [==============================] - 10s 13ms/step - loss: 0.2910 - accuracy: 0.8857 - val_loss: 0.3251 - val_accuracy: 0.8620\n",
      "Epoch 2/10\n",
      "766/766 [==============================] - 10s 13ms/step - loss: 0.2151 - accuracy: 0.9178 - val_loss: 0.3383 - val_accuracy: 0.8625\n",
      "Epoch 3/10\n",
      "766/766 [==============================] - 10s 13ms/step - loss: 0.1383 - accuracy: 0.9502 - val_loss: 0.4185 - val_accuracy: 0.8516\n",
      "Epoch 4/10\n",
      "766/766 [==============================] - 10s 13ms/step - loss: 0.0733 - accuracy: 0.9762 - val_loss: 0.5611 - val_accuracy: 0.8511\n",
      "Epoch 5/10\n",
      "766/766 [==============================] - 10s 13ms/step - loss: 0.0329 - accuracy: 0.9907 - val_loss: 0.8034 - val_accuracy: 0.8390\n",
      "Epoch 6/10\n",
      "766/766 [==============================] - 10s 13ms/step - loss: 0.0135 - accuracy: 0.9961 - val_loss: 1.0634 - val_accuracy: 0.8343\n"
     ]
    }
   ],
   "source": [
    "es = EarlyStopping(patience=5, restore_best_weights=True)\n",
    "\n",
    "history = model_cnn.fit(X_train_pad, y_train, \n",
    "          epochs=10, \n",
    "          batch_size=32,\n",
    "          validation_split=0.3,\n",
    "          callbacks=[es]\n",
    "         )"
   ]
  },
  {
   "cell_type": "code",
   "execution_count": 115,
   "id": "2b9fb60e",
   "metadata": {
    "ExecuteTime": {
     "end_time": "2023-06-07T20:50:33.377426Z",
     "start_time": "2023-06-07T20:50:33.369332Z"
    }
   },
   "outputs": [],
   "source": [
    "def plot_loss_accuracy(history):\n",
    "    fig, ax = plt.subplots(1,2, figsize=(20,7))\n",
    "    \n",
    "    ax[0].plot(history.history['loss'])\n",
    "    ax[0].plot(history.history['val_loss'])\n",
    "\n",
    "    ax[0].set_title('Model loss')\n",
    "    ax[0].set_ylabel('Loss')\n",
    "    ax[0].set_xlabel('Epoch')\n",
    "\n",
    "    ax[0].set_ylim((0,3))\n",
    "\n",
    "    ax[0].legend(['Train', 'Test'], loc='best')\n",
    "\n",
    "    ax[0].grid(axis=\"x\",linewidth=0.5)\n",
    "    ax[0].grid(axis=\"y\",linewidth=0.5)\n",
    "\n",
    "    ax[1].plot(history.history['accuracy'])\n",
    "    ax[1].plot(history.history['val_accuracy'])\n",
    "\n",
    "    ax[1].set_title('Model Accuracy')\n",
    "    ax[1].set_ylabel('Accuracy')\n",
    "    ax[1].set_xlabel('Epoch')\n",
    "\n",
    "    ax[1].legend(['Train', 'Test'], loc='best')\n",
    "\n",
    "    ax[1].set_ylim((0,1))\n",
    "\n",
    "    ax[1].grid(axis=\"x\",linewidth=0.5)\n",
    "    ax[1].grid(axis=\"y\",linewidth=0.5)\n"
   ]
  },
  {
   "cell_type": "code",
   "execution_count": 116,
   "id": "7b48b693",
   "metadata": {
    "ExecuteTime": {
     "end_time": "2023-06-07T20:50:35.299065Z",
     "start_time": "2023-06-07T20:50:34.986277Z"
    }
   },
   "outputs": [
    {
     "data": {
      "image/png": "[encoded data removed]",
      "text/plain": [
       "<Figure size 2000x700 with 2 Axes>"
      ]
     },
     "metadata": {},
     "output_type": "display_data"
    }
   ],
   "source": [
    "plot_loss_accuracy(history)"
   ]
  },
  {
   "cell_type": "markdown",
   "id": "4a1ffbc6",
   "metadata": {},
   "source": [
    "# Evaluate on test set"
   ]
  },
  {
   "cell_type": "code",
   "execution_count": 87,
   "id": "29e7e294",
   "metadata": {
    "ExecuteTime": {
     "end_time": "2023-06-07T20:32:44.849666Z",
     "start_time": "2023-06-07T20:32:44.844201Z"
    }
   },
   "outputs": [
    {
     "name": "stdout",
     "output_type": "stream",
     "text": [
      "The accuracy on the test set is 87.690%\n"
     ]
    }
   ],
   "source": [
    "res = model_cnn.evaluate(X_test_pad, y_test, verbose=0)\n",
    "print(f'The accuracy on the test set is {res[1]*100:.3f}%')"
   ]
  }
 ],
 "metadata": {
  "kernelspec": {
   "display_name": "Python 3 (ipykernel)",
   "language": "python",
   "name": "python3"
  },
  "language_info": {
   "codemirror_mode": {
    "name": "ipython",
    "version": 3
   },
   "file_extension": ".py",
   "mimetype": "text/x-python",
   "name": "python",
   "nbconvert_exporter": "python",
   "pygments_lexer": "ipython3",
   "version": "3.10.6"
  },
  "toc": {
   "base_numbering": 1,
   "nav_menu": {},
   "number_sections": true,
   "sideBar": true,
   "skip_h1_title": false,
   "title_cell": "Table of Contents",
   "title_sidebar": "Contents",
   "toc_cell": false,
   "toc_position": {},
   "toc_section_display": true,
   "toc_window_display": false
  }
 },
 "nbformat": 4,
 "nbformat_minor": 5
}
